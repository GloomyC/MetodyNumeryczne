{
 "cells": [
  {
   "cell_type": "markdown",
   "metadata": {},
   "source": [
    "**Sprawozdanie lab2 Krzysztof Kucaba**"
   ]
  },
  {
   "cell_type": "code",
   "execution_count": 2,
   "metadata": {
    "collapsed": true
   },
   "outputs": [],
   "source": [
    "import math\n",
    "import numpy as np\n",
    "import matplotlib.pyplot as plt"
   ]
  },
  {
   "cell_type": "markdown",
   "metadata": {},
   "source": [
    "<a id='zad1'></a>\n",
    "***Zadanie 1.***  "
   ]
  },
  {
   "cell_type": "code",
   "execution_count": 3,
   "metadata": {
    "scrolled": true
   },
   "outputs": [
    {
     "name": "stdout",
     "output_type": "stream",
     "text": [
      "bezwzg: 0.0012644892673496777\n",
      "wzg: 0.040%\n",
      "\n",
      "bezwzg: 0.0002818284590451192\n",
      "wzg: 0.010%\n",
      "\n",
      "bezwzg: 11.544268632989315\n",
      "wzg: 0.833%\n",
      "\n",
      "bezwzg: 3343.1271580516477\n",
      "wzg: 0.921%\n",
      "\n"
     ]
    }
   ],
   "source": [
    "p = math.pi\n",
    "p1 = 22/7\n",
    "bezw = abs(p-p1)\n",
    "wzg = abs(1-p1/p)*100\n",
    "print(\"bezwzg: {0}\".format(bezw))\n",
    "print(\"wzg: {0:.3f}%\\n\".format(wzg))\n",
    "\n",
    "p = math.e\n",
    "p1 = 2.718\n",
    "bezw = abs(p-p1)\n",
    "wzg = abs(1-p1/p)*100\n",
    "print(\"bezwzg: {0}\".format(bezw))\n",
    "print(\"wzg: {0:.3f}%\\n\".format(wzg))\n",
    "\n",
    "p = pow(10,math.pi)\n",
    "p1 = 1397\n",
    "bezw = abs(p-p1)\n",
    "wzg = abs(1-p1/p)*100\n",
    "print(\"bezwzg: {0}\".format(bezw))\n",
    "print(\"wzg: {0:.3f}%\\n\".format(wzg))\n",
    "\n",
    "p = math.factorial(9)\n",
    "p1 = math.sqrt(18*math.pi)*pow(9/math.e,9)\n",
    "bezw = abs(p-p1)\n",
    "wzg = abs(1-p1/p)*100\n",
    "print(\"bezwzg: {0}\".format(bezw))\n",
    "print(\"wzg: {0:.3f}%\\n\".format(wzg))"
   ]
  },
  {
   "cell_type": "markdown",
   "metadata": {},
   "source": [
    "<a id='zad2'></a>\n",
    "***Zadanie 2.*** "
   ]
  },
  {
   "cell_type": "code",
   "execution_count": 4,
   "metadata": {},
   "outputs": [
    {
     "name": "stdout",
     "output_type": "stream",
     "text": [
      "analitycznie funkcja nie zależy od p\n"
     ]
    },
    {
     "data": {
      "image/png": "[encoded data removed]",
      "text/plain": [
       "<matplotlib.figure.Figure at 0x27027b7f6a0>"
      ]
     },
     "metadata": {},
     "output_type": "display_data"
    },
    {
     "data": {
      "image/png": "[encoded data removed]",
      "text/plain": [
       "<matplotlib.figure.Figure at 0x270287ccc50>"
      ]
     },
     "metadata": {},
     "output_type": "display_data"
    }
   ],
   "source": [
    "def func(p):\n",
    "    return (pow(10,p)*(1+p*round(math.pi,15)*pow(10,-p))-pow(10,p))/p\n",
    "def stuff(n):\n",
    "    x=[]\n",
    "    \n",
    "    for i in range(1,n+1):\n",
    "        x.append(func(i))\n",
    "        \n",
    "    return x\n",
    "\n",
    "print(\"analitycznie funkcja nie zależy od p\")\n",
    "\n",
    "x = np.linspace(1,50)\n",
    "y=abs(func(x)-round(math.pi,15))\n",
    "plt.semilogy(x,y)\n",
    "plt.title('wykres błędu bezwzględnego od p')\n",
    "plt.xlabel('p')\n",
    "plt.ylabel('błąd')\n",
    "plt.show()\n",
    "\n",
    "x = np.linspace(1,50)\n",
    "y=abs(1-func(x)/round(math.pi,15))*100\n",
    "plt.semilogy(x,y)\n",
    "plt.title('wykres błędu względnego od p')\n",
    "plt.xlabel('p')\n",
    "plt.ylabel('błąd')\n",
    "plt.show()"
   ]
  },
  {
   "cell_type": "markdown",
   "metadata": {},
   "source": [
    "<a id='zad3'></a>\n",
    "***Zadanie 3.***  "
   ]
  },
  {
   "cell_type": "code",
   "execution_count": 5,
   "metadata": {},
   "outputs": [
    {
     "name": "stdout",
     "output_type": "stream",
     "text": [
      "e(5): 2.7166666666666663\n",
      "błąd bezwzględny e(5): 0.0016151617923787498\n",
      "błąd względny e(5): 0.059%\n",
      "\n",
      "e(10): 2.7166666666666663\n",
      "błąd bezwzględny e(5): 2.7312660577649694e-08\n",
      "błąd względny e(5): 0.000%\n",
      "\n"
     ]
    }
   ],
   "source": [
    "def e1(n):\n",
    "    x=0\n",
    "    for i in range(n+1):\n",
    "        x+=1/math.factorial(i)\n",
    "    return x;\n",
    "\n",
    "print(\"e(5): {0}\".format(e1(5)))\n",
    "print(\"błąd bezwzględny e(5): {0}\".format(abs(e1(5)-math.e)))\n",
    "print(\"błąd względny e(5): {0:.3f}%\\n\".format(100*abs(e1(5)/math.e-1)))\n",
    "\n",
    "print(\"e(10): {0}\".format(e1(5)))\n",
    "print(\"błąd bezwzględny e(5): {0}\".format(abs(e1(10)-math.e)))\n",
    "print(\"błąd względny e(5): {0:.3f}%\\n\".format(100*abs(e1(10)/math.e-1)))"
   ]
  },
  {
   "cell_type": "markdown",
   "metadata": {},
   "source": [
    "<a id='zad4'></a>\n",
    "***Zadanie 4.***  "
   ]
  },
  {
   "cell_type": "code",
   "execution_count": 6,
   "metadata": {},
   "outputs": [
    {
     "name": "stdout",
     "output_type": "stream",
     "text": [
      "ilosc bitów mantysy: 52\n",
      "\n"
     ]
    }
   ],
   "source": [
    "def fun(n):\n",
    "    a=1.0\n",
    "    b=1/pow(2,n)\n",
    "    return(a+b-a-b)\n",
    "    \n",
    "for i in range(1,100):\n",
    "\n",
    "    if(fun(i)!=0):\n",
    "        print(\"ilosc bitów mantysy: {0}\\n\".format(i-1))\n",
    "        break"
   ]
  },
  {
   "cell_type": "markdown",
   "metadata": {},
   "source": [
    "<a id='zad6'></a>\n",
    "***Zadanie 5.***  "
   ]
  },
  {
   "cell_type": "code",
   "execution_count": 12,
   "metadata": {},
   "outputs": [
    {
     "name": "stdout",
     "output_type": "stream",
     "text": [
      "pi: 3.1414971543976273\n"
     ]
    }
   ],
   "source": [
    "pi = math.sqrt(6*sum([1/pow(x,2) for x in range(1,10000)]))\n",
    "\n",
    "print(\"pi: {0}\".format(pi))"
   ]
  }
 ],
 "metadata": {
  "kernelspec": {
   "display_name": "Python 3",
   "language": "python",
   "name": "python3"
  },
  "language_info": {
   "codemirror_mode": {
    "name": "ipython",
    "version": 3
   },
   "file_extension": ".py",
   "mimetype": "text/x-python",
   "name": "python",
   "nbconvert_exporter": "python",
   "pygments_lexer": "ipython3",
   "version": "3.7.4"
  }
 },
 "nbformat": 4,
 "nbformat_minor": 2
}
