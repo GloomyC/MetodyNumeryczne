{
 "cells": [
  {
   "cell_type": "markdown",
   "metadata": {},
   "source": [
    "**Sprawozdanie lab3 Krzysztof Kucaba**"
   ]
  },
  {
   "cell_type": "code",
   "execution_count": 23,
   "metadata": {
    "collapsed": true
   },
   "outputs": [],
   "source": [
    "import math\n",
    "import numpy as np\n",
    "import matplotlib.pyplot as plt\n",
    "import scipy\n",
    "import scipy.optimize\n",
    "import time"
   ]
  },
  {
   "cell_type": "markdown",
   "metadata": {},
   "source": [
    "<a id='zad1'></a>\n",
    "***Zadanie 1.***  "
   ]
  },
  {
   "cell_type": "code",
   "execution_count": 24,
   "metadata": {
    "scrolled": true
   },
   "outputs": [
    {
     "data": {
      "image/png": "[encoded data removed]",
      "text/plain": [
       "<matplotlib.figure.Figure at 0x251af58b710>"
      ]
     },
     "metadata": {},
     "output_type": "display_data"
    }
   ],
   "source": [
    "def f(x):\n",
    "    return math.e**(-2*x) + x**2 -1\n",
    "\n",
    "def df(x):\n",
    "    return -2*math.e**(-2*x) + 2*x\n",
    "\n",
    "def ddf(x):\n",
    "    return 4*math.e**(-2*x) + 2\n",
    "\n",
    "x = np.linspace(-1,2)\n",
    "y=f(x)\n",
    "plt.plot(x,y,label='f(x)')\n",
    "y=df(x)\n",
    "plt.plot(x,y,label='f\\'(x)')\n",
    "y=ddf(x)\n",
    "plt.plot(x,y,label='f\\'\\'(x)')\n",
    "plt.xlabel('x')\n",
    "plt.ylabel('value')\n",
    "plt.axhline(0,color='black')\n",
    "plt.title('f')\n",
    "plt.legend()\n",
    "plt.show()"
   ]
  },
  {
   "cell_type": "markdown",
   "metadata": {},
   "source": [
    "<a id='zad2'></a>\n",
    "***Zadanie 2.*** "
   ]
  },
  {
   "cell_type": "code",
   "execution_count": 25,
   "metadata": {},
   "outputs": [
    {
     "name": "stdout",
     "output_type": "stream",
     "text": [
      "Mój bisect: (5.8207746315238534e-12, 32)\n",
      "Czas: 0.0008824\n",
      "\n",
      "Biblioteczny bisect: 5.8207746315238534e-12\n",
      "Czas: 0.0001858\n",
      "\n",
      "Funkcja musi być ciągła i przyjmować różne znaki na końcach przedziałów\n",
      "\n"
     ]
    }
   ],
   "source": [
    "def bisect(f,x1,x2,ite=50,tol=10**-10):\n",
    "    t=ite\n",
    "\n",
    "    while(True):\n",
    "        xb=(x2+x1)/2\n",
    "        fx = f(xb)\n",
    "        if(abs(x2-xb)<=tol or ite ==1):\n",
    "            return (xb,t-ite)\n",
    "        if(fx*f(x1)<0):\n",
    "            x2=xb\n",
    "            ite=ite-1\n",
    "            continue\n",
    "        if(fx*f(x2)<0):\n",
    "            x1=xb\n",
    "            ite=ite-1\n",
    "            continue\n",
    "        if(fx==0):\n",
    "            return (xb,t-ite)\n",
    "        print(\"w przedziale {0} do {1} nie ma miejsc zerowych\".format(x1,x2))\n",
    "        \n",
    "t1=time.clock()\n",
    "print('Mój bisect: {0}'.format(bisect(f,-0.25,0.4,ite=50)))\n",
    "t2=time.clock()\n",
    "print('Czas: {:.7f}\\n'.format(t2-t1))\n",
    "\n",
    "t1=time.clock()\n",
    "print('Biblioteczny bisect: {0}'.format(scipy.optimize.bisect(f=f,a=-0.25,b=0.4,maxiter=50,xtol=10**-10)))\n",
    "t2=time.clock()\n",
    "print('Czas: {:.7f}\\n'.format(t2-t1))\n",
    "\n",
    "print(\"Funkcja musi być ciągła i przyjmować różne znaki na końcach przedziałów\\n\")"
   ]
  },
  {
   "cell_type": "markdown",
   "metadata": {},
   "source": [
    "<a id='zad3'></a>\n",
    "***Zadanie 3.***  "
   ]
  },
  {
   "cell_type": "code",
   "execution_count": 26,
   "metadata": {},
   "outputs": [
    {
     "name": "stdout",
     "output_type": "stream",
     "text": [
      "Moje styczne: (-5.2465474697379417e-17, 4)\n",
      "Czas: 0.0002016\n",
      "\n",
      "Biblioteczne styczne: -5.2465474697379417e-17\n",
      "Czas: 0.0001012\n",
      "\n",
      "Funkcja musi być ciągła, posiada różne znaki na końcach przedziału, posiada stałe znaki pierwszej i drugiej pochodnej na tym przedziale\n",
      "\n"
     ]
    }
   ],
   "source": [
    "def styczne(f,df,x0,ite=50,tol=10**-10):\n",
    "    t=ite\n",
    "    while(True):\n",
    "        x1=x0-(f(x0)/df(x0))\n",
    "        if(ite == 1):\n",
    "            return (x1,t-ite)\n",
    "        if(abs(x0-x1)<=tol):\n",
    "            return (x1,t-ite)\n",
    "        if(f(x1)==0):\n",
    "            return (x1,t-ite)\n",
    "        x0=x1\n",
    "        ite=ite-1\n",
    "        \n",
    "t1=time.clock()\n",
    "print('Moje styczne: {0}'.format(styczne(f,df,-0.25,ite=50)))\n",
    "t2=time.clock()\n",
    "print('Czas: {:.7f}\\n'.format(t2-t1))\n",
    "\n",
    "t1=time.clock()\n",
    "print('Biblioteczne styczne: {0}'.format(scipy.optimize.newton(func=f,x0=-0.25,fprime=df,tol=10**-10)))\n",
    "t2=time.clock()\n",
    "print('Czas: {:.7f}\\n'.format(t2-t1))\n",
    "\n",
    "print(\"Funkcja musi być ciągła, posiada różne znaki na końcach przedziału, posiada stałe znaki pierwszej i drugiej pochodnej na tym przedziale\\n\")\n"
   ]
  },
  {
   "cell_type": "markdown",
   "metadata": {},
   "source": [
    "<a id='zad4'></a>\n",
    "***Zadanie 4.***  "
   ]
  },
  {
   "cell_type": "code",
   "execution_count": 27,
   "metadata": {},
   "outputs": [
    {
     "name": "stdout",
     "output_type": "stream",
     "text": [
      "Moje sieczne: (-2.6847184785448516e-17, 7)\n",
      "Czas: 0.0002190\n",
      "\n",
      "Biblioteczne sieczne: 3.5586237242500555e-18\n",
      "Czas: 0.0001001\n",
      "\n",
      "Funkcja musi być ciągła, posiada różne znaki na krańcach przedziału, nie posiada na przedziale maximum lokalnego\n",
      "\n"
     ]
    }
   ],
   "source": [
    "def sieczne(f,x0,x1,tol=10**-10,ite=50):\n",
    "    t=ite\n",
    "    while(True):\n",
    "        x2=x1 - ((f(x1)*(x1-x0))/(f(x1)-f(x0)))\n",
    "        if(ite == 1 or x2==0):\n",
    "            return (x2,t-ite)\n",
    "        if(abs(x1-x2)<=tol):\n",
    "            return (x2,t-ite)\n",
    "        if(f(x2)==0):\n",
    "            return (x2,t-ite)\n",
    "        x0=x1\n",
    "        x1=x2\n",
    "        ite=ite-1\n",
    "        \n",
    "        \n",
    "t1=time.clock()\n",
    "print('Moje sieczne: {0}'.format(sieczne(f,-0.25,0.3,ite=50)))\n",
    "t2=time.clock()\n",
    "print('Czas: {:.7f}\\n'.format(t2-t1))\n",
    "\n",
    "t1=time.clock()\n",
    "print('Biblioteczne sieczne: {0}'.format(scipy.optimize.newton(func=f,x0=-0.25,tol=10**-10)))\n",
    "t2=time.clock()\n",
    "print('Czas: {:.7f}\\n'.format(t2-t1))\n",
    "            \n",
    "print(\"Funkcja musi być ciągła, posiada różne znaki na krańcach przedziału, nie posiada na przedziale maximum lokalnego\\n\")\n",
    "    "
   ]
  },
  {
   "cell_type": "code",
   "execution_count": 28,
   "metadata": {},
   "outputs": [
    {
     "name": "stdout",
     "output_type": "stream",
     "text": [
      "Najszybszą metodą jest metoda siecznych, najwolniej działa metoda bisekcji\n",
      "\n"
     ]
    }
   ],
   "source": [
    "print(\"Najszybszą metodą jest metoda siecznych, najwolniej działa metoda bisekcji\\n\")"
   ]
  }
 ],
 "metadata": {
  "kernelspec": {
   "display_name": "Python 3",
   "language": "python",
   "name": "python3"
  },
  "language_info": {
   "codemirror_mode": {
    "name": "ipython",
    "version": 3
   },
   "file_extension": ".py",
   "mimetype": "text/x-python",
   "name": "python",
   "nbconvert_exporter": "python",
   "pygments_lexer": "ipython3",
   "version": "3.6.2"
  }
 },
 "nbformat": 4,
 "nbformat_minor": 2
}
