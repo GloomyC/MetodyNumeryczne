{
 "cells": [
  {
   "cell_type": "markdown",
   "metadata": {},
   "source": [
    "**Sprawozdanie lab1 Krzysztof Kucaba**"
   ]
  },
  {
   "cell_type": "code",
   "execution_count": 1,
   "metadata": {
    "collapsed": true
   },
   "outputs": [],
   "source": [
    "import math\n",
    "import numpy as np\n",
    "import matplotlib.pyplot as plt"
   ]
  },
  {
   "cell_type": "markdown",
   "metadata": {},
   "source": [
    "<a id='zad1'></a>\n",
    "***Zadanie 1.***  "
   ]
  },
  {
   "cell_type": "code",
   "execution_count": 11,
   "metadata": {
    "scrolled": true
   },
   "outputs": [],
   "source": [
    "k= 1240 * math.sqrt(7)\n",
    "m = 4467\n",
    "l = 2j\n",
    "d=k+m\n",
    "c=d+l"
   ]
  },
  {
   "cell_type": "markdown",
   "metadata": {},
   "source": [
    "<a id='zad2'></a>\n",
    "***Zadanie 2.*** "
   ]
  },
  {
   "cell_type": "code",
   "execution_count": 12,
   "metadata": {},
   "outputs": [
    {
     "name": "stdout",
     "output_type": "stream",
     "text": [
      "d: 7747.731625720093\n",
      "d: 7747.732\n",
      "d: 7747.73162572009277937468\n"
     ]
    }
   ],
   "source": [
    "print(\"d: {0}\".format(d))\n",
    "print(\"d: {0:.3f}\".format(d))\n",
    "print(\"d: {0:.20f}\".format(d))"
   ]
  },
  {
   "cell_type": "markdown",
   "metadata": {},
   "source": [
    "<a id='zad3'></a>\n",
    "***Zadanie 3.***  "
   ]
  },
  {
   "cell_type": "code",
   "execution_count": 3,
   "metadata": {},
   "outputs": [
    {
     "name": "stdout",
     "output_type": "stream",
     "text": [
      "S: 29961.369137285856\n"
     ]
    }
   ],
   "source": [
    "r=17\n",
    "h=33\n",
    "S=math.pi*math.pow(r,2)*h\n",
    "\n",
    "print(\"S: {0}\".format(S))"
   ]
  },
  {
   "cell_type": "markdown",
   "metadata": {},
   "source": [
    "<a id='zad5'></a>\n",
    "***Zadanie 5.***  "
   ]
  },
  {
   "cell_type": "code",
   "execution_count": 4,
   "metadata": {},
   "outputs": [
    {
     "name": "stdout",
     "output_type": "stream",
     "text": [
      "B: 1.3249882775483445e-81\n"
     ]
    }
   ],
   "source": [
    "x1=123\n",
    "t=5\n",
    "r=44\n",
    "B=((x1+r)/(r*math.sin(2*x1)+3.3456))*math.pow(x1,t-r)\n",
    "\n",
    "print(\"B: {0}\".format(B))"
   ]
  },
  {
   "cell_type": "markdown",
   "metadata": {},
   "source": [
    "<a id='zad6'></a>\n",
    "***Zadanie 6.***  "
   ]
  },
  {
   "cell_type": "code",
   "execution_count": 5,
   "metadata": {},
   "outputs": [
    {
     "name": "stdout",
     "output_type": "stream",
     "text": [
      "M:\n",
      "[[ 1.41421356  1.         -1.41421356]\n",
      " [ 0.          1.          1.        ]\n",
      " [-1.41421356  1.41421356  1.        ]]\n",
      "Minv:\n",
      "[[ 0.10355339  0.75       -0.60355339]\n",
      " [ 0.35355339  0.14644661  0.35355339]\n",
      " [-0.35355339  0.85355339 -0.35355339]]\n",
      "Mdet: -4.0\n",
      "Mtransp:\n",
      "[[ 1.41421356  0.         -1.41421356]\n",
      " [ 1.          1.          1.41421356]\n",
      " [-1.41421356  1.          1.        ]]\n"
     ]
    }
   ],
   "source": [
    "a=math.sqrt(2)\n",
    "M=np.array([[a,1,-a],[0,1,1],[-a,a,1]])\n",
    "Minv=np.linalg.inv(M)\n",
    "Mdet=np.linalg.det(M)\n",
    "Mtransp=np.transpose(M)\n",
    "\n",
    "print('M:\\n{0}'.format(M))\n",
    "print('Minv:\\n{0}'.format(Minv))\n",
    "print('Mdet: {0}'.format(Mdet))\n",
    "print('Mtransp:\\n{0}'.format(Mtransp))\n"
   ]
  },
  {
   "cell_type": "markdown",
   "metadata": {},
   "source": [
    "<a id='zad7'></a>\n",
    "***Zadanie 7.***  "
   ]
  },
  {
   "cell_type": "code",
   "execution_count": 6,
   "metadata": {},
   "outputs": [
    {
     "name": "stdout",
     "output_type": "stream",
     "text": [
      "M[1,1]:1.4142135623730951\n",
      "M[3,3]:1.0\n",
      "M[3,2]:1.4142135623730951\n",
      "w1:[-1.41421356  1.          1.        ]\n",
      "w2:[ 0.  1.  1.]\n"
     ]
    }
   ],
   "source": [
    "M=np.array([[a,1,-a],[0,1,1],[-a,a,1]])\n",
    "\n",
    "print('M[1,1]:{0}'.format(M[0,0]))\n",
    "print('M[3,3]:{0}'.format(M[2,2]))\n",
    "print('M[3,2]:{0}'.format(M[2,1]))\n",
    "\n",
    "w1 = M[:,2]\n",
    "w2 = M[1,]\n",
    "\n",
    "print('w1:{0}'.format(w1))\n",
    "print('w2:{0}'.format(w2))"
   ]
  },
  {
   "cell_type": "markdown",
   "metadata": {},
   "source": [
    "<a id='zad8'></a>\n",
    "***Zadanie 8.***  "
   ]
  },
  {
   "cell_type": "code",
   "execution_count": 7,
   "metadata": {},
   "outputs": [
    {
     "name": "stdout",
     "output_type": "stream",
     "text": [
      "roots:[ 4.46636403+0.63055073j  4.46636403-0.63055073j -2.45514565+0.j\n",
      "  0.26120880+1.0643841j   0.26120880-1.0643841j ]\n",
      "\n",
      "sprawdzenie\n",
      "wartości powinny być bliskie zera z dokładnością do błędów numerycznych:\n",
      "\n",
      "(3.8369307731e-13-2.30926389122e-13j)\n",
      "(3.8369307731e-13+2.30926389122e-13j)\n",
      "(4.68958205602e-13+0j)\n",
      "(-1.27897692437e-13+2.48689957516e-14j)\n",
      "(-1.27897692437e-13-2.48689957516e-14j)\n"
     ]
    }
   ],
   "source": [
    "w=[1,-7,3,43,-28,60]\n",
    "roots=np.roots(w)\n",
    "print('roots:{0}'.format(roots))\n",
    "\n",
    "print(\"\\nsprawdzenie\\nwartości powinny być bliskie zera z dokładnością do błędów numerycznych:\\n\")\n",
    "for i in range(len(roots)):\n",
    "\n",
    "    x=0\n",
    "    for j in range(len(w)):\n",
    "        x+=w[j]*pow(roots[i],len(w)-j-1)\n",
    "    print(x)\n",
    "    "
   ]
  },
  {
   "cell_type": "markdown",
   "metadata": {},
   "source": [
    "<a id='zad9'></a>\n",
    "***Zadanie 9.***  "
   ]
  },
  {
   "cell_type": "code",
   "execution_count": 8,
   "metadata": {},
   "outputs": [
    {
     "name": "stdout",
     "output_type": "stream",
     "text": [
      "seq1:[ 0.]\n",
      "seq2:[ 0.    0.65  1.3 ]\n"
     ]
    }
   ],
   "source": [
    "seq1=np.arange(0,1.3,6)\n",
    "print('seq1:{0}'.format(seq1))\n",
    "#w dokumentacji napisane jest że funkcja może nie działać poprawnie dla nie całkowitych kroków\n",
    "#u mnie output wygląda tak\n",
    "#seq1:[ 0.]\n",
    "\n",
    "seq2=np.linspace(0.0,1.3,3)\n",
    "print('seq2:{0}'.format(seq2))"
   ]
  },
  {
   "cell_type": "markdown",
   "metadata": {},
   "source": [
    "<a id='zad10'></a>\n",
    "***Zadanie 10.***  "
   ]
  },
  {
   "cell_type": "code",
   "execution_count": 9,
   "metadata": {},
   "outputs": [
    {
     "data": {
      "image/png": "[encoded data removed]",
      "text/plain": [
       "<matplotlib.figure.Figure at 0x27b17e3e828>"
      ]
     },
     "metadata": {},
     "output_type": "display_data"
    },
    {
     "data": {
      "image/png": "[encoded data removed]",
      "text/plain": [
       "<matplotlib.figure.Figure at 0x27b18014c50>"
      ]
     },
     "metadata": {},
     "output_type": "display_data"
    },
    {
     "data": {
      "image/png": "[encoded data removed]",
      "text/plain": [
       "<matplotlib.figure.Figure at 0x27b184f4be0>"
      ]
     },
     "metadata": {},
     "output_type": "display_data"
    }
   ],
   "source": [
    "def funkcja(x):\n",
    "    return pow(x,3)-3*x\n",
    "\n",
    "x = np.linspace(-1,1)\n",
    "y=[]\n",
    "for i in x:\n",
    "    y.append(funkcja(i))\n",
    "plt.plot(x,y)\n",
    "plt.title('wykres na <-1;1>')\n",
    "plt.xlabel('x')\n",
    "plt.ylabel('y')\n",
    "plt.legend('Wykres 1')\n",
    "plt.show()\n",
    "\n",
    "x = np.linspace(-5,5)\n",
    "y=[]\n",
    "for i in x:\n",
    "    y.append(funkcja(i))\n",
    "plt.plot(x,y)\n",
    "plt.title('wykres na <-5;5>')\n",
    "plt.xlabel('x')\n",
    "plt.ylabel('y')\n",
    "plt.legend('Wykres 2')\n",
    "plt.show()\n",
    "\n",
    "x = np.linspace(0,5)\n",
    "y=[]\n",
    "for i in x:\n",
    "    y.append(funkcja(i))\n",
    "plt.plot(x,y)\n",
    "plt.title('wykres na <0;5>')\n",
    "plt.xlabel('x')\n",
    "plt.ylabel('y')\n",
    "plt.legend('Wykres 3')\n",
    "plt.show()\n"
   ]
  },
  {
   "cell_type": "markdown",
   "metadata": {},
   "source": [
    "<a id='zad10'></a>\n",
    "***Zadanie 10.***  "
   ]
  },
  {
   "cell_type": "code",
   "execution_count": 10,
   "metadata": {},
   "outputs": [
    {
     "name": "stdout",
     "output_type": "stream",
     "text": [
      "ciepło wydzielone dla m=2500[km/h], v=60[g] wynosi 347.222[J] czyli 0.083[kcal]\n"
     ]
    },
    {
     "data": {
      "image/png": "[encoded data removed]",
      "text/plain": [
       "<matplotlib.figure.Figure at 0x27b17e22be0>"
      ]
     },
     "metadata": {},
     "output_type": "display_data"
    },
    {
     "data": {
      "image/png": "[encoded data removed]",
      "text/plain": [
       "<matplotlib.figure.Figure at 0x27b17e18ef0>"
      ]
     },
     "metadata": {},
     "output_type": "display_data"
    }
   ],
   "source": [
    "def cieplo(m,v):\n",
    "    #v w [km/h]\n",
    "    #m w [g]\n",
    "    return (m/1000)*((v/3.6)**2)/2\n",
    "\n",
    "m=2500\n",
    "v=60\n",
    "\n",
    "print('ciepło wydzielone dla m={0}[km/h], v={1}[g] wynosi {2:.3f}[J] czyli {3:.3f}[kcal]'.format(m,v,cieplo(m,v),cieplo(m,v)/4184))\n",
    "\n",
    "m=3000\n",
    "x = np.linspace(0,200)\n",
    "y=cieplo(m,x)\n",
    "plt.plot(x,y)\n",
    "plt.title('wykres ciepła od v')\n",
    "plt.xlabel('v [Km/h]')\n",
    "plt.ylabel('Q [J]')\n",
    "plt.show()\n",
    "\n",
    "plt.semilogy(x,y)\n",
    "plt.title('wykres ciepła od v')\n",
    "plt.xlabel('v [Km/h]')\n",
    "plt.ylabel('Q [J]')\n",
    "plt.show()"
   ]
  },
  {
   "cell_type": "code",
   "execution_count": null,
   "metadata": {
    "collapsed": true
   },
   "outputs": [],
   "source": []
  }
 ],
 "metadata": {
  "kernelspec": {
   "display_name": "Python 3",
   "language": "python",
   "name": "python3"
  },
  "language_info": {
   "codemirror_mode": {
    "name": "ipython",
    "version": 3
   },
   "file_extension": ".py",
   "mimetype": "text/x-python",
   "name": "python",
   "nbconvert_exporter": "python",
   "pygments_lexer": "ipython3",
   "version": "3.7.4"
  }
 },
 "nbformat": 4,
 "nbformat_minor": 2
}
