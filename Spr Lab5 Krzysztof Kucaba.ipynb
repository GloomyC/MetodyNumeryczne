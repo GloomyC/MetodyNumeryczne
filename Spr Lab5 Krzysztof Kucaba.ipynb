{
 "cells": [
  {
   "cell_type": "markdown",
   "metadata": {},
   "source": [
    "##### **Sprawozdanie lab5 Krzysztof Kucaba**"
   ]
  },
  {
   "cell_type": "code",
   "execution_count": 2,
   "metadata": {
    "collapsed": true
   },
   "outputs": [],
   "source": [
    "import math\n",
    "import numpy as np\n",
    "import matplotlib.pyplot as plt\n",
    "import scipy\n",
    "import scipy.optimize\n",
    "import time\n",
    "import functools\n",
    "import operator"
   ]
  },
  {
   "cell_type": "markdown",
   "metadata": {},
   "source": [
    "<a id='zad1'></a>\n",
    "***Zadanie 1.***  "
   ]
  },
  {
   "cell_type": "code",
   "execution_count": 3,
   "metadata": {
    "scrolled": true
   },
   "outputs": [
    {
     "name": "stdout",
     "output_type": "stream",
     "text": [
      "Ax=b1\n",
      "x1=1, x2=1\n",
      "\n",
      "Ax=b2\n",
      "x1=2, x2=0\n",
      "\n",
      "cond(A)  40002.0001\n"
     ]
    }
   ],
   "source": [
    "A=[[1,1],[1,1.0001]]\n",
    "b1=[2,2.0001]\n",
    "b2=[2,2]\n",
    "\n",
    "\n",
    "print(\"Ax=b1\")\n",
    "print(\"x1=1, x2=1\")\n",
    "print(\"\\nAx=b2\")\n",
    "print(\"x1=2, x2=0\")\n",
    "\n",
    "print('\\ncond(A)  {:.4f}'.format(np.linalg.cond(A)))"
   ]
  },
  {
   "cell_type": "markdown",
   "metadata": {},
   "source": [
    "<a id='zad2'></a>\n",
    "***Zadanie 2.*** "
   ]
  },
  {
   "cell_type": "code",
   "execution_count": 4,
   "metadata": {},
   "outputs": [
    {
     "name": "stdout",
     "output_type": "stream",
     "text": [
      "\n",
      "norma kolumnowa  33872789110.1074\n",
      "norma wierszowa  33872789109.7577\n",
      "norma spektralna  15257574847.1910\n",
      "\n",
      "macierz ta jest źle uwarunkowana, błędy numeryczne przy wykorzystaniu tej macierzy bedą bardzo duże\n"
     ]
    }
   ],
   "source": [
    "H =[[1/(i+j-1) for j in range(1,9)] for i in range(1,9)]\n",
    "\n",
    "print('\\nnorma kolumnowa  {:.4f}'.format(np.linalg.cond(H,1)))\n",
    "print('norma wierszowa  {:.4f}'.format(np.linalg.cond(H,np.inf)))\n",
    "print('norma spektralna  {:.4f}'.format(np.linalg.cond(H,2)))\n",
    "\n",
    "print(\"\\nmacierz ta jest źle uwarunkowana, błędy numeryczne przy wykorzystaniu tej macierzy bedą bardzo duże\")\n"
   ]
  },
  {
   "cell_type": "markdown",
   "metadata": {},
   "source": [
    "<a id='zad3'></a>\n",
    "***Zadanie 3.***  "
   ]
  },
  {
   "cell_type": "code",
   "execution_count": 5,
   "metadata": {},
   "outputs": [
    {
     "name": "stdout",
     "output_type": "stream",
     "text": [
      "\n",
      "norma residuum dla solve:\n",
      "3.659212394130439e-15\n",
      "\n",
      "\n",
      "norma residuum dla qr x:\n",
      "4.1782052831214096e-15\n",
      "\n",
      "\n",
      "norma residuum dla lstsq x:\n",
      "2.3692875334887135e-14\n",
      "\n",
      "jakości rozwiązań solve oraz qr są bliskie sobie, lstsq jest znacząco gorsza\n"
     ]
    }
   ],
   "source": [
    "t=np.linspace(0,1,num=20)\n",
    "\n",
    "b=[math.cos(4*i) for i in t]\n",
    "\n",
    "A=np.vander(t,len(t),increasing=True)\n",
    "\n",
    "x=np.linalg.solve(A,b)\n",
    "\n",
    "r1=np.linalg.norm(b-np.matmul(A,x))\n",
    "print(\"\\nnorma residuum dla solve:\\n{0}\\n\".format(r1))\n",
    "\n",
    "q,r=np.linalg.qr(A)\n",
    "x=scipy.linalg.solve_triangular(r,np.matmul(np.matrix.transpose(q),b))\n",
    "\n",
    "r2=np.linalg.norm(b-np.matmul(A,x))\n",
    "print(\"\\nnorma residuum dla qr x:\\n{0}\\n\".format(r2))\n",
    "\n",
    "x=np.linalg.lstsq(A,b)[0]\n",
    "\n",
    "r3=np.linalg.norm(b-np.matmul(A,x))\n",
    "print(\"\\nnorma residuum dla lstsq x:\\n{0}\\n\".format(r3))\n",
    "\n",
    "print(\"jakości rozwiązań solve oraz qr są bliskie sobie, lstsq jest znacząco gorsza\")"
   ]
  },
  {
   "cell_type": "markdown",
   "metadata": {},
   "source": [
    "<a id='zad4'></a>\n",
    "***Zadanie 4.***  "
   ]
  },
  {
   "cell_type": "code",
   "execution_count": 6,
   "metadata": {
    "scrolled": true
   },
   "outputs": [
    {
     "name": "stdout",
     "output_type": "stream",
     "text": [
      "t=0.75:\n",
      "czas solve: 0.003786388484666788\n",
      "norma residuum: 3.351795649042692e-11\n",
      "\n",
      "czas bicg: 0.3058599912250031\n",
      "norma residuum: 0.00014880164172284923\n",
      "\n",
      "czas gmres: 22.40011455826349\n",
      "norma residuum: 0.538182384658935\n",
      "\n",
      "-----------\n",
      "t=0.5:\n",
      "czas solve: 0.003263437941061653\n",
      "norma residuum: 1.0887052423280117e-10\n",
      "\n",
      "czas bicg: 0.3048586447689452\n",
      "norma residuum: 7.988353175114071e-05\n",
      "\n",
      "czas gmres: 14.230755608786172\n",
      "norma residuum: 0.3593473338402118\n",
      "\n",
      "-----------\n",
      "t=0.2:\n",
      "czas solve: 0.0031444997307872313\n",
      "norma residuum: 1.1112271533856093e-12\n",
      "\n",
      "czas bicg: 0.1065146422376344\n",
      "norma residuum: 9.664628427161918e-05\n",
      "\n",
      "czas gmres: 6.784107514100782\n",
      "norma residuum: 0.00019214947358438077\n",
      "\n",
      "-----------\n",
      "t=0.1:\n",
      "czas solve: 0.003084464253220176\n",
      "norma residuum: 1.6691252252065272e-14\n",
      "\n",
      "czas bicg: 0.004505303889011714\n",
      "norma residuum: 8.822426351951468e-05\n",
      "\n",
      "czas gmres: 0.0038128191980604242\n",
      "norma residuum: 8.083027231115992e-05\n",
      "\n",
      "-----------\n",
      "t=0.05:\n",
      "czas solve: 0.003061809356019296\n",
      "norma residuum: 1.3733457598569632e-14\n",
      "\n",
      "czas bicg: 0.00475866115598933\n",
      "norma residuum: 2.6864795561232674e-05\n",
      "\n",
      "czas gmres: 0.0033038391743929196\n",
      "norma residuum: 2.6691311885606726e-05\n",
      "\n",
      "-----------\n",
      "t=0.01:\n",
      "czas solve: 0.004717882341040536\n",
      "norma residuum: 3.1514557271291467e-15\n",
      "\n",
      "czas bicg: 0.003915898980302757\n",
      "norma residuum: 1.990741711283895e-05\n",
      "\n",
      "czas gmres: 0.0035707893796868007\n",
      "norma residuum: 1.9906205306478573e-05\n",
      "\n",
      "-----------\n"
     ]
    },
    {
     "data": {
      "image/png": "[encoded data removed]",
      "text/plain": [
       "<matplotlib.figure.Figure at 0x2601c1d8d68>"
      ]
     },
     "metadata": {},
     "output_type": "display_data"
    },
    {
     "name": "stdout",
     "output_type": "stream",
     "text": [
      "generalny trend uwarunkowania jest rosnący w zależności od t,\n",
      "oznacza to że im rzadsza macierz tym lepsze jej uwarunkowanie\n",
      "im gęstrza była macierz tym gorsze były wyniki wszystkich metod\n",
      "czas wykonania gmres był znacząco większy dla gęstych macierzy, dla gęstych macierzy jakość wyniku była bardzo zła\n",
      "solve dla wszystkich macierzy miało najlepszą jakość wyniku, im rzadsza była macierz tym dokładniejszy wynik ale rósł czas wykonania\n",
      "bigc ma dosyć stałą jakość rozwiązania a czas wykonania jest gorszy dla gęstych macierzy\n"
     ]
    }
   ],
   "source": [
    "n=500\n",
    "\n",
    "t=[0.75,0.5,0.2,0.1,0.05,0.01]\n",
    "\n",
    "A=np.ones((n,n))\n",
    "for i in range(n-1,0,-1):\n",
    "    for j in range(0,i):\n",
    "        s=math.sin((i+1)*(j+1)+1)\n",
    "        A[i][j]=s\n",
    "        A[j][i]=s\n",
    "        \n",
    "b=[math.cos(math.pow(i,3)+5) for i in range(0,n)]\n",
    "\n",
    "uwar=[0 for i in t]\n",
    "\n",
    "for k in range(0,len(t)):\n",
    "    w=t[k]\n",
    "    print(\"t={0}:\".format(w))\n",
    "    for i in range(n-1,0,-1):\n",
    "        for j in range(0,i):\n",
    "            if(abs(A[i][j])>w):\n",
    "                A[i][j]=0\n",
    "                A[j][i]=0\n",
    "            \n",
    "    uwar[k]=np.linalg.cond(A)\n",
    "    \n",
    "    start=time.clock()\n",
    "    x=np.linalg.solve(A,b)\n",
    "    timeval=time.clock()-start\n",
    "    print(\"czas solve: {1}\".format(w,timeval))\n",
    "    r=np.linalg.norm(b-np.matmul(A,x))\n",
    "    print(\"norma residuum: {0}\\n\".format(r))\n",
    "    \n",
    "    start=time.clock()\n",
    "    x=scipy.sparse.linalg.bicg(scipy.sparse.csr_matrix(A),b)[0]\n",
    "\n",
    "    timeval=time.clock()-start\n",
    "    print(\"czas bicg: {1}\".format(w,timeval))\n",
    "    r=np.linalg.norm(b-np.matmul(A,x))\n",
    "    print(\"norma residuum: {0}\\n\".format(r))\n",
    "    \n",
    "    start=time.clock()\n",
    "    x=scipy.sparse.linalg.gmres(scipy.sparse.csr_matrix(A),b)[0]\n",
    "    timeval=time.clock()-start\n",
    "    print(\"czas gmres: {1}\".format(w,timeval))\n",
    "    r=np.linalg.norm(b-np.matmul(A,x))\n",
    "    print(\"norma residuum: {0}\\n\".format(r))\n",
    "    \n",
    "    \n",
    "    print(\"-----------\")\n",
    "\n",
    "t=list(reversed(t))\n",
    "uwar=list(reversed(uwar))\n",
    "plt.semilogy(t,uwar,label='błąd')\n",
    "plt.xlabel(\"t\")\n",
    "plt.ylabel(\"współczynnik\")\n",
    "plt.show()\n",
    "\n",
    "print(\"generalny trend uwarunkowania jest rosnący w zależności od t,\\noznacza to że im rzadsza macierz tym lepsze jej uwarunkowanie\")\n",
    "print(\"im gęstrza była macierz tym gorsze były wyniki wszystkich metod\")\n",
    "print(\"czas wykonania gmres był znacząco większy dla gęstych macierzy, dla gęstych macierzy jakość wyniku była bardzo zła\")\n",
    "print(\"solve dla wszystkich macierzy miało najlepszą jakość wyniku, im rzadsza była macierz tym dokładniejszy wynik ale rósł czas wykonania\")\n",
    "print(\"bigc ma dosyć stałą jakość rozwiązania a czas wykonania jest gorszy dla gęstych macierzy\")\n"
   ]
  },
  {
   "cell_type": "markdown",
   "metadata": {},
   "source": [
    "<a id='zad5'></a>\n",
    "***Zadanie 5.***  "
   ]
  },
  {
   "cell_type": "code",
   "execution_count": 7,
   "metadata": {},
   "outputs": [
    {
     "name": "stdout",
     "output_type": "stream",
     "text": [
      "metoda Gaussa-Seidla:\n",
      "rozwiązanie: [0.999999999999997, 1.9999999999999998, -0.9999999999999991, 1.0000000000000002]\n",
      "residuum: [  2.84217094e-14   0.00000000e+00  -3.55271368e-15   0.00000000e+00]\n",
      "\n",
      "solve:\n",
      "rozwiązanie: [ 1.  2. -1.  1.]\n",
      "residuum: [ 0.  0.  0.  0.]\n",
      "\n",
      "dokładność metody Gaussa-Seidla zależy od liczby iteracji\n",
      "\n",
      "dla zadanej macierzy:\n",
      "metoda Gaussa-Seidla:\n",
      "rozwiązanie: [1303595803.0, -2601324252.0, 1291861095.0]\n",
      "residuum: [  2.34694170e+07  -3.88145064e+09   0.00000000e+00]\n",
      "\n",
      "solve:\n",
      "rozwiązanie: [ 0.25 -0.75  0.75]\n",
      "residuum: [ -2.22044605e-16   0.00000000e+00   0.00000000e+00]\n",
      "\n",
      "zadana macierz nie spełnia warunków działania metody Gaussa-Seidla\n",
      "odwzorowanie zadane macierzą A nie jest zwężające\n"
     ]
    }
   ],
   "source": [
    "def gauss(A,b,ite=15):\n",
    "    n=len(b)\n",
    "    A=list(A)\n",
    "    x=[0 for i in range(n)]\n",
    "\n",
    "    for loop in range(ite):\n",
    "        \n",
    "        for i in range(n):\n",
    "            x[i]=(+b[i] -sum([A[i][j]*x[j] for j in range(0,i)])-sum([A[i][j]*x[j] for j in range(i+1,n)]))/A[i][i]\n",
    "        \n",
    "    return x\n",
    "\n",
    "A = [[10., -1., 2., 0.],\n",
    "       [-1., 11., -1., 3.],\n",
    "       [2., -1., 10., -1.],\n",
    "       [0.0, 3., -1., 8.]]\n",
    "b = [6., 25., -11., 15.]\n",
    "\n",
    "x=gauss(A,b)\n",
    "\n",
    "r=b-np.matmul(A,x)\n",
    "print(\"metoda Gaussa-Seidla:\")\n",
    "print(\"rozwiązanie: {0}\".format(x))\n",
    "print(\"residuum: {0}\".format(r))\n",
    "\n",
    "x2=np.linalg.solve(A,b)\n",
    "r2=b-np.matmul(A,x2)\n",
    "print(\"\\nsolve:\")\n",
    "print(\"rozwiązanie: {0}\".format(x2))\n",
    "print(\"residuum: {0}\".format(r2))\n",
    "\n",
    "print(\"\\ndokładność metody Gaussa-Seidla zależy od liczby iteracji\")\n",
    "\n",
    "\n",
    "A=[[1,2,3],[2,1,3],[3,2,1]]\n",
    "b=[1,2,0]\n",
    "print(\"\\ndla zadanej macierzy:\")\n",
    "x=gauss(A,b)\n",
    "r=b-np.matmul(A,x)\n",
    "print(\"metoda Gaussa-Seidla:\")\n",
    "print(\"rozwiązanie: {0}\".format(x))\n",
    "print(\"residuum: {0}\".format(r))\n",
    "\n",
    "x2=np.linalg.solve(A,b)\n",
    "r2=b-np.matmul(A,x2)\n",
    "print(\"\\nsolve:\")\n",
    "print(\"rozwiązanie: {0}\".format(x2))\n",
    "print(\"residuum: {0}\".format(r2))\n",
    "\n",
    "print(\"\\nzadana macierz nie spełnia warunków działania metody Gaussa-Seidla\\nodwzorowanie zadane macierzą A nie jest zwężające\" )"
   ]
  },
  {
   "cell_type": "code",
   "execution_count": null,
   "metadata": {
    "collapsed": true
   },
   "outputs": [],
   "source": []
  }
 ],
 "metadata": {
  "kernelspec": {
   "display_name": "Python 3",
   "language": "python",
   "name": "python3"
  },
  "language_info": {
   "codemirror_mode": {
    "name": "ipython",
    "version": 3
   },
   "file_extension": ".py",
   "mimetype": "text/x-python",
   "name": "python",
   "nbconvert_exporter": "python",
   "pygments_lexer": "ipython3",
   "version": "3.6.2"
  }
 },
 "nbformat": 4,
 "nbformat_minor": 2
}
